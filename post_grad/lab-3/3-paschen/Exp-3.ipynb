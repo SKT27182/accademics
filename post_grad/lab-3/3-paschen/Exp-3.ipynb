{
 "cells": [
  {
   "cell_type": "code",
   "execution_count": 7,
   "metadata": {},
   "outputs": [],
   "source": [
    "import pandas as pd\n",
    "import matplotlib.pyplot as plt\n",
    "import seaborn as sns\n",
    "from scipy.interpolate import interp1d\n",
    "import numpy as np"
   ]
  },
  {
   "cell_type": "markdown",
   "metadata": {},
   "source": [
    "## Study of Paschen’s Law"
   ]
  },
  {
   "cell_type": "markdown",
   "metadata": {},
   "source": [
    "### Gap Length = 5cm"
   ]
  },
  {
   "cell_type": "code",
   "execution_count": 2,
   "metadata": {},
   "outputs": [],
   "source": [
    "gap_len_1 = 0.05 #m"
   ]
  },
  {
   "cell_type": "code",
   "execution_count": 3,
   "metadata": {},
   "outputs": [],
   "source": [
    "gap_5 = pd.DataFrame(columns=['Pressure (mB)', 'Breakdown Voltage (V)'])\n",
    "gap_5['Pressure (mB)'] = [0.058, 0.68, 0.082, 0.075, 0.090, 0.110, 0.100, 0.120, 0.130, 0.140, 0.160, 0.180, 0.200, 0.330, 0.290, 0.360, 0.400, 0.500, 0.560, 0.650, 0.710, 0.830, 0.930, 1]         \n",
    "gap_5['Breakdown Voltage (V)'] = [640, 566, 493, 553, 474, 475,  476, 471, 468, 468, 462, 453, 460, 470, 466, 479, 518, 541, 585, 588, 613, 625, 647, 675]  "
   ]
  },
  {
   "cell_type": "code",
   "execution_count": 4,
   "metadata": {},
   "outputs": [],
   "source": [
    "gap_5['Pressure * Gap Len'] = gap_len_1 * gap_5['Pressure (mB)']"
   ]
  },
  {
   "cell_type": "code",
   "execution_count": 5,
   "metadata": {},
   "outputs": [
    {
     "data": {
      "text/html": [
       "<div>\n",
       "<style scoped>\n",
       "    .dataframe tbody tr th:only-of-type {\n",
       "        vertical-align: middle;\n",
       "    }\n",
       "\n",
       "    .dataframe tbody tr th {\n",
       "        vertical-align: top;\n",
       "    }\n",
       "\n",
       "    .dataframe thead th {\n",
       "        text-align: right;\n",
       "    }\n",
       "</style>\n",
       "<table border=\"1\" class=\"dataframe\">\n",
       "  <thead>\n",
       "    <tr style=\"text-align: right;\">\n",
       "      <th></th>\n",
       "      <th>Pressure (mB)</th>\n",
       "      <th>Breakdown Voltage (V)</th>\n",
       "      <th>Pressure * Gap Len</th>\n",
       "    </tr>\n",
       "  </thead>\n",
       "  <tbody>\n",
       "    <tr>\n",
       "      <th>0</th>\n",
       "      <td>0.058</td>\n",
       "      <td>640</td>\n",
       "      <td>0.00290</td>\n",
       "    </tr>\n",
       "    <tr>\n",
       "      <th>1</th>\n",
       "      <td>0.680</td>\n",
       "      <td>566</td>\n",
       "      <td>0.03400</td>\n",
       "    </tr>\n",
       "    <tr>\n",
       "      <th>2</th>\n",
       "      <td>0.082</td>\n",
       "      <td>493</td>\n",
       "      <td>0.00410</td>\n",
       "    </tr>\n",
       "    <tr>\n",
       "      <th>3</th>\n",
       "      <td>0.075</td>\n",
       "      <td>553</td>\n",
       "      <td>0.00375</td>\n",
       "    </tr>\n",
       "    <tr>\n",
       "      <th>4</th>\n",
       "      <td>0.090</td>\n",
       "      <td>474</td>\n",
       "      <td>0.00450</td>\n",
       "    </tr>\n",
       "    <tr>\n",
       "      <th>5</th>\n",
       "      <td>0.110</td>\n",
       "      <td>475</td>\n",
       "      <td>0.00550</td>\n",
       "    </tr>\n",
       "    <tr>\n",
       "      <th>6</th>\n",
       "      <td>0.100</td>\n",
       "      <td>476</td>\n",
       "      <td>0.00500</td>\n",
       "    </tr>\n",
       "    <tr>\n",
       "      <th>7</th>\n",
       "      <td>0.120</td>\n",
       "      <td>471</td>\n",
       "      <td>0.00600</td>\n",
       "    </tr>\n",
       "    <tr>\n",
       "      <th>8</th>\n",
       "      <td>0.130</td>\n",
       "      <td>468</td>\n",
       "      <td>0.00650</td>\n",
       "    </tr>\n",
       "    <tr>\n",
       "      <th>9</th>\n",
       "      <td>0.140</td>\n",
       "      <td>468</td>\n",
       "      <td>0.00700</td>\n",
       "    </tr>\n",
       "    <tr>\n",
       "      <th>10</th>\n",
       "      <td>0.160</td>\n",
       "      <td>462</td>\n",
       "      <td>0.00800</td>\n",
       "    </tr>\n",
       "    <tr>\n",
       "      <th>11</th>\n",
       "      <td>0.180</td>\n",
       "      <td>453</td>\n",
       "      <td>0.00900</td>\n",
       "    </tr>\n",
       "    <tr>\n",
       "      <th>12</th>\n",
       "      <td>0.200</td>\n",
       "      <td>460</td>\n",
       "      <td>0.01000</td>\n",
       "    </tr>\n",
       "    <tr>\n",
       "      <th>13</th>\n",
       "      <td>0.330</td>\n",
       "      <td>470</td>\n",
       "      <td>0.01650</td>\n",
       "    </tr>\n",
       "    <tr>\n",
       "      <th>14</th>\n",
       "      <td>0.290</td>\n",
       "      <td>466</td>\n",
       "      <td>0.01450</td>\n",
       "    </tr>\n",
       "    <tr>\n",
       "      <th>15</th>\n",
       "      <td>0.360</td>\n",
       "      <td>479</td>\n",
       "      <td>0.01800</td>\n",
       "    </tr>\n",
       "    <tr>\n",
       "      <th>16</th>\n",
       "      <td>0.400</td>\n",
       "      <td>518</td>\n",
       "      <td>0.02000</td>\n",
       "    </tr>\n",
       "    <tr>\n",
       "      <th>17</th>\n",
       "      <td>0.500</td>\n",
       "      <td>541</td>\n",
       "      <td>0.02500</td>\n",
       "    </tr>\n",
       "    <tr>\n",
       "      <th>18</th>\n",
       "      <td>0.560</td>\n",
       "      <td>585</td>\n",
       "      <td>0.02800</td>\n",
       "    </tr>\n",
       "    <tr>\n",
       "      <th>19</th>\n",
       "      <td>0.650</td>\n",
       "      <td>588</td>\n",
       "      <td>0.03250</td>\n",
       "    </tr>\n",
       "    <tr>\n",
       "      <th>20</th>\n",
       "      <td>0.710</td>\n",
       "      <td>613</td>\n",
       "      <td>0.03550</td>\n",
       "    </tr>\n",
       "    <tr>\n",
       "      <th>21</th>\n",
       "      <td>0.830</td>\n",
       "      <td>625</td>\n",
       "      <td>0.04150</td>\n",
       "    </tr>\n",
       "    <tr>\n",
       "      <th>22</th>\n",
       "      <td>0.930</td>\n",
       "      <td>647</td>\n",
       "      <td>0.04650</td>\n",
       "    </tr>\n",
       "    <tr>\n",
       "      <th>23</th>\n",
       "      <td>1.000</td>\n",
       "      <td>675</td>\n",
       "      <td>0.05000</td>\n",
       "    </tr>\n",
       "  </tbody>\n",
       "</table>\n",
       "</div>"
      ],
      "text/plain": [
       "    Pressure (mB)  Breakdown Voltage (V)  Pressure * Gap Len\n",
       "0           0.058                    640             0.00290\n",
       "1           0.680                    566             0.03400\n",
       "2           0.082                    493             0.00410\n",
       "3           0.075                    553             0.00375\n",
       "4           0.090                    474             0.00450\n",
       "5           0.110                    475             0.00550\n",
       "6           0.100                    476             0.00500\n",
       "7           0.120                    471             0.00600\n",
       "8           0.130                    468             0.00650\n",
       "9           0.140                    468             0.00700\n",
       "10          0.160                    462             0.00800\n",
       "11          0.180                    453             0.00900\n",
       "12          0.200                    460             0.01000\n",
       "13          0.330                    470             0.01650\n",
       "14          0.290                    466             0.01450\n",
       "15          0.360                    479             0.01800\n",
       "16          0.400                    518             0.02000\n",
       "17          0.500                    541             0.02500\n",
       "18          0.560                    585             0.02800\n",
       "19          0.650                    588             0.03250\n",
       "20          0.710                    613             0.03550\n",
       "21          0.830                    625             0.04150\n",
       "22          0.930                    647             0.04650\n",
       "23          1.000                    675             0.05000"
      ]
     },
     "execution_count": 5,
     "metadata": {},
     "output_type": "execute_result"
    }
   ],
   "source": [
    "gap_5"
   ]
  },
  {
   "cell_type": "code",
   "execution_count": 11,
   "metadata": {},
   "outputs": [
    {
     "data": {
      "image/png": "[encoded data removed]",
      "text/plain": [
       "<Figure size 432x288 with 1 Axes>"
      ]
     },
     "metadata": {
      "needs_background": "light"
     },
     "output_type": "display_data"
    }
   ],
   "source": [
    "inter = interp1d(gap_5['Pressure * Gap Len'], gap_5['Breakdown Voltage (V)'], kind='quadratic')\n",
    "\n",
    "xnew = np.linspace(0.003, 0.048, num=100, endpoint=True)\n",
    "\n",
    "plt.plot(gap_5['Pressure * Gap Len'], gap_5['Breakdown Voltage (V)'], 'o', xnew, inter(xnew), '-')\n",
    "plt.show()\n"
   ]
  },
  {
   "cell_type": "code",
   "execution_count": 7,
   "metadata": {},
   "outputs": [
    {
     "data": {
      "image/png": "[encoded data removed]",
      "text/plain": [
       "<Figure size 1500x600 with 1 Axes>"
      ]
     },
     "metadata": {
      "needs_background": "light"
     },
     "output_type": "display_data"
    }
   ],
   "source": [
    "plt.figure(figsize=(10,4),dpi=150)\n",
    "plt.scatter(x = gap_5['Pressure * Gap Len'], y = gap_5['Breakdown Voltage (V)'], s=10, c='red', marker='o');\n",
    "#sns.lineplot(x='Pressure * Gap Len', y='Breakdown Voltage (V)', data=gap_5);\n",
    "plt.xlabel('Pressure * Gap Len');\n",
    "plt.ylabel('Breakdown Voltage (V)');"
   ]
  },
  {
   "cell_type": "markdown",
   "metadata": {},
   "source": [
    "### \n",
    "***"
   ]
  },
  {
   "cell_type": "markdown",
   "metadata": {},
   "source": [
    "### Gap Length = 6cm"
   ]
  },
  {
   "cell_type": "code",
   "execution_count": 8,
   "metadata": {},
   "outputs": [],
   "source": [
    "gap_len_1 = 0.06 #m"
   ]
  },
  {
   "cell_type": "code",
   "execution_count": 9,
   "metadata": {},
   "outputs": [],
   "source": [
    "gap_6 = pd.DataFrame(columns=['Pressure (mB)', 'Breakdown Voltage (V)'])\n",
    "gap_6['Pressure (mB)'] = [ 0.059, 0.083, 0.120, 0.310, 0.360, 0.520,  0.340, 0.400, 1, 0.918, 0.650, 0.540, 0.430, 0.490, 0.260, 0.290, 0.210, 0.069, 0.190]         \n",
    "gap_6['Breakdown Voltage (V)'] = [ 569, 493, 478, 515, 551, 620, 537, 598, 753,  725, 687, 681, 620, 635, 525, 536, 498, 518, 490]  "
   ]
  },
  {
   "cell_type": "code",
   "execution_count": 10,
   "metadata": {},
   "outputs": [],
   "source": [
    "gap_6['Pressure * Gap Len'] = gap_len_1 * gap_6['Pressure (mB)']"
   ]
  },
  {
   "cell_type": "code",
   "execution_count": 23,
   "metadata": {},
   "outputs": [
    {
     "data": {
      "text/html": [
       "<div>\n",
       "<style scoped>\n",
       "    .dataframe tbody tr th:only-of-type {\n",
       "        vertical-align: middle;\n",
       "    }\n",
       "\n",
       "    .dataframe tbody tr th {\n",
       "        vertical-align: top;\n",
       "    }\n",
       "\n",
       "    .dataframe thead th {\n",
       "        text-align: right;\n",
       "    }\n",
       "</style>\n",
       "<table border=\"1\" class=\"dataframe\">\n",
       "  <thead>\n",
       "    <tr style=\"text-align: right;\">\n",
       "      <th></th>\n",
       "      <th>Pressure (mB)</th>\n",
       "      <th>Breakdown Voltage (V)</th>\n",
       "      <th>Pressure * Gap Len</th>\n",
       "    </tr>\n",
       "  </thead>\n",
       "  <tbody>\n",
       "    <tr>\n",
       "      <th>0</th>\n",
       "      <td>0.059</td>\n",
       "      <td>569</td>\n",
       "      <td>0.00354</td>\n",
       "    </tr>\n",
       "    <tr>\n",
       "      <th>1</th>\n",
       "      <td>0.069</td>\n",
       "      <td>518</td>\n",
       "      <td>0.00414</td>\n",
       "    </tr>\n",
       "    <tr>\n",
       "      <th>2</th>\n",
       "      <td>0.083</td>\n",
       "      <td>493</td>\n",
       "      <td>0.00498</td>\n",
       "    </tr>\n",
       "    <tr>\n",
       "      <th>3</th>\n",
       "      <td>0.120</td>\n",
       "      <td>478</td>\n",
       "      <td>0.00720</td>\n",
       "    </tr>\n",
       "    <tr>\n",
       "      <th>4</th>\n",
       "      <td>0.190</td>\n",
       "      <td>490</td>\n",
       "      <td>0.01140</td>\n",
       "    </tr>\n",
       "    <tr>\n",
       "      <th>5</th>\n",
       "      <td>0.210</td>\n",
       "      <td>498</td>\n",
       "      <td>0.01260</td>\n",
       "    </tr>\n",
       "    <tr>\n",
       "      <th>6</th>\n",
       "      <td>0.260</td>\n",
       "      <td>525</td>\n",
       "      <td>0.01560</td>\n",
       "    </tr>\n",
       "    <tr>\n",
       "      <th>7</th>\n",
       "      <td>0.290</td>\n",
       "      <td>536</td>\n",
       "      <td>0.01740</td>\n",
       "    </tr>\n",
       "    <tr>\n",
       "      <th>8</th>\n",
       "      <td>0.310</td>\n",
       "      <td>515</td>\n",
       "      <td>0.01860</td>\n",
       "    </tr>\n",
       "    <tr>\n",
       "      <th>9</th>\n",
       "      <td>0.340</td>\n",
       "      <td>537</td>\n",
       "      <td>0.02040</td>\n",
       "    </tr>\n",
       "    <tr>\n",
       "      <th>10</th>\n",
       "      <td>0.360</td>\n",
       "      <td>551</td>\n",
       "      <td>0.02160</td>\n",
       "    </tr>\n",
       "    <tr>\n",
       "      <th>11</th>\n",
       "      <td>0.400</td>\n",
       "      <td>598</td>\n",
       "      <td>0.02400</td>\n",
       "    </tr>\n",
       "    <tr>\n",
       "      <th>12</th>\n",
       "      <td>0.430</td>\n",
       "      <td>620</td>\n",
       "      <td>0.02580</td>\n",
       "    </tr>\n",
       "    <tr>\n",
       "      <th>13</th>\n",
       "      <td>0.490</td>\n",
       "      <td>635</td>\n",
       "      <td>0.02940</td>\n",
       "    </tr>\n",
       "    <tr>\n",
       "      <th>14</th>\n",
       "      <td>0.520</td>\n",
       "      <td>620</td>\n",
       "      <td>0.03120</td>\n",
       "    </tr>\n",
       "    <tr>\n",
       "      <th>15</th>\n",
       "      <td>0.540</td>\n",
       "      <td>681</td>\n",
       "      <td>0.03240</td>\n",
       "    </tr>\n",
       "    <tr>\n",
       "      <th>16</th>\n",
       "      <td>0.650</td>\n",
       "      <td>687</td>\n",
       "      <td>0.03900</td>\n",
       "    </tr>\n",
       "    <tr>\n",
       "      <th>17</th>\n",
       "      <td>0.918</td>\n",
       "      <td>725</td>\n",
       "      <td>0.05508</td>\n",
       "    </tr>\n",
       "    <tr>\n",
       "      <th>18</th>\n",
       "      <td>1.000</td>\n",
       "      <td>753</td>\n",
       "      <td>0.06000</td>\n",
       "    </tr>\n",
       "  </tbody>\n",
       "</table>\n",
       "</div>"
      ],
      "text/plain": [
       "    Pressure (mB)  Breakdown Voltage (V)  Pressure * Gap Len\n",
       "0           0.059                    569             0.00354\n",
       "1           0.069                    518             0.00414\n",
       "2           0.083                    493             0.00498\n",
       "3           0.120                    478             0.00720\n",
       "4           0.190                    490             0.01140\n",
       "5           0.210                    498             0.01260\n",
       "6           0.260                    525             0.01560\n",
       "7           0.290                    536             0.01740\n",
       "8           0.310                    515             0.01860\n",
       "9           0.340                    537             0.02040\n",
       "10          0.360                    551             0.02160\n",
       "11          0.400                    598             0.02400\n",
       "12          0.430                    620             0.02580\n",
       "13          0.490                    635             0.02940\n",
       "14          0.520                    620             0.03120\n",
       "15          0.540                    681             0.03240\n",
       "16          0.650                    687             0.03900\n",
       "17          0.918                    725             0.05508\n",
       "18          1.000                    753             0.06000"
      ]
     },
     "execution_count": 23,
     "metadata": {},
     "output_type": "execute_result"
    }
   ],
   "source": [
    "gap_6.sort_values(by='Pressure (mB)').reset_index(drop=True)"
   ]
  },
  {
   "cell_type": "code",
   "execution_count": 12,
   "metadata": {},
   "outputs": [
    {
     "data": {
      "image/png": "[encoded data removed]",
      "text/plain": [
       "<Figure size 1500x600 with 1 Axes>"
      ]
     },
     "metadata": {
      "needs_background": "light"
     },
     "output_type": "display_data"
    }
   ],
   "source": [
    "plt.figure(figsize=(10,4),dpi=150)\n",
    "plt.scatter(x = gap_6['Pressure * Gap Len'], y = gap_6['Breakdown Voltage (V)'], s=10, c='red', marker='o');\n",
    "#sns.lineplot(x='Pressure * Gap Len', y='Breakdown Voltage (V)', data=gap_6);\n",
    "plt.xlabel('Pressure * Gap Len');\n",
    "plt.ylabel('Breakdown Voltage (V)');"
   ]
  },
  {
   "cell_type": "markdown",
   "metadata": {},
   "source": [
    "### Pressure = 0.400"
   ]
  },
  {
   "cell_type": "code",
   "execution_count": 13,
   "metadata": {},
   "outputs": [],
   "source": [
    "cons_press = 0.400 #mB"
   ]
  },
  {
   "cell_type": "code",
   "execution_count": 14,
   "metadata": {},
   "outputs": [],
   "source": [
    "pressure_ = pd.DataFrame(columns=['Gap Length (cm)', 'Breakdown Voltage (V)'])\n",
    "pressure_['Gap Length (cm)'] = [0.05, 0.06, 0.075, 0.07 , 0.055, 0.04, 0.035, 0.03, 0.025]\n",
    "pressure_[ 'Breakdown Voltage (V)'] = [518, 598, 679, 635, 575, 465, 473, 480, 492]"
   ]
  },
  {
   "cell_type": "code",
   "execution_count": 24,
   "metadata": {},
   "outputs": [
    {
     "data": {
      "text/html": [
       "<div>\n",
       "<style scoped>\n",
       "    .dataframe tbody tr th:only-of-type {\n",
       "        vertical-align: middle;\n",
       "    }\n",
       "\n",
       "    .dataframe tbody tr th {\n",
       "        vertical-align: top;\n",
       "    }\n",
       "\n",
       "    .dataframe thead th {\n",
       "        text-align: right;\n",
       "    }\n",
       "</style>\n",
       "<table border=\"1\" class=\"dataframe\">\n",
       "  <thead>\n",
       "    <tr style=\"text-align: right;\">\n",
       "      <th></th>\n",
       "      <th>Gap Length (cm)</th>\n",
       "      <th>Breakdown Voltage (V)</th>\n",
       "      <th>Pressure * Gap Len</th>\n",
       "    </tr>\n",
       "  </thead>\n",
       "  <tbody>\n",
       "    <tr>\n",
       "      <th>0</th>\n",
       "      <td>0.025</td>\n",
       "      <td>492</td>\n",
       "      <td>0.010</td>\n",
       "    </tr>\n",
       "    <tr>\n",
       "      <th>1</th>\n",
       "      <td>0.030</td>\n",
       "      <td>480</td>\n",
       "      <td>0.012</td>\n",
       "    </tr>\n",
       "    <tr>\n",
       "      <th>2</th>\n",
       "      <td>0.035</td>\n",
       "      <td>473</td>\n",
       "      <td>0.014</td>\n",
       "    </tr>\n",
       "    <tr>\n",
       "      <th>3</th>\n",
       "      <td>0.040</td>\n",
       "      <td>465</td>\n",
       "      <td>0.016</td>\n",
       "    </tr>\n",
       "    <tr>\n",
       "      <th>4</th>\n",
       "      <td>0.050</td>\n",
       "      <td>518</td>\n",
       "      <td>0.020</td>\n",
       "    </tr>\n",
       "    <tr>\n",
       "      <th>5</th>\n",
       "      <td>0.055</td>\n",
       "      <td>575</td>\n",
       "      <td>0.022</td>\n",
       "    </tr>\n",
       "    <tr>\n",
       "      <th>6</th>\n",
       "      <td>0.060</td>\n",
       "      <td>598</td>\n",
       "      <td>0.024</td>\n",
       "    </tr>\n",
       "    <tr>\n",
       "      <th>7</th>\n",
       "      <td>0.070</td>\n",
       "      <td>635</td>\n",
       "      <td>0.028</td>\n",
       "    </tr>\n",
       "    <tr>\n",
       "      <th>8</th>\n",
       "      <td>0.075</td>\n",
       "      <td>679</td>\n",
       "      <td>0.030</td>\n",
       "    </tr>\n",
       "  </tbody>\n",
       "</table>\n",
       "</div>"
      ],
      "text/plain": [
       "   Gap Length (cm)  Breakdown Voltage (V)  Pressure * Gap Len\n",
       "0            0.025                    492               0.010\n",
       "1            0.030                    480               0.012\n",
       "2            0.035                    473               0.014\n",
       "3            0.040                    465               0.016\n",
       "4            0.050                    518               0.020\n",
       "5            0.055                    575               0.022\n",
       "6            0.060                    598               0.024\n",
       "7            0.070                    635               0.028\n",
       "8            0.075                    679               0.030"
      ]
     },
     "execution_count": 24,
     "metadata": {},
     "output_type": "execute_result"
    }
   ],
   "source": [
    "pressure_.sort_values(by='Gap Length (cm)').reset_index(drop=True)"
   ]
  },
  {
   "cell_type": "code",
   "execution_count": 16,
   "metadata": {},
   "outputs": [],
   "source": [
    "pressure_['Pressure * Gap Len'] = pressure_['Gap Length (cm)'] * cons_press"
   ]
  },
  {
   "cell_type": "code",
   "execution_count": 27,
   "metadata": {},
   "outputs": [
    {
     "data": {
      "image/png": "[encoded data removed]",
      "text/plain": [
       "<Figure size 1800x900 with 1 Axes>"
      ]
     },
     "metadata": {
      "needs_background": "light"
     },
     "output_type": "display_data"
    }
   ],
   "source": [
    "plt.figure(figsize=(12,6),dpi=150)\n",
    "plt.scatter(x = pressure_['Pressure * Gap Len'], y = pressure_['Breakdown Voltage (V)'], s=10, c='red', marker='o');\n",
    "#sns.lineplot(x='Pressure * Gap Len', y='Breakdown Voltage (V)', data=pressure_);\n",
    "plt.xlabel('Pressure * Gap Len');\n",
    "plt.ylabel('Breakdown Voltage (V)');"
   ]
  },
  {
   "cell_type": "code",
   "execution_count": null,
   "metadata": {},
   "outputs": [],
   "source": []
  }
 ],
 "metadata": {
  "kernelspec": {
   "display_name": "Python 3.10.4 ('my_env')",
   "language": "python",
   "name": "python3"
  },
  "language_info": {
   "codemirror_mode": {
    "name": "ipython",
    "version": 3
   },
   "file_extension": ".py",
   "mimetype": "text/x-python",
   "name": "python",
   "nbconvert_exporter": "python",
   "pygments_lexer": "ipython3",
   "version": "3.10.6"
  },
  "orig_nbformat": 4,
  "vscode": {
   "interpreter": {
    "hash": "333ad066d239af8659780667608f3e14a8c59d1eb92890b0405dfaef9e357b30"
   }
  }
 },
 "nbformat": 4,
 "nbformat_minor": 2
}
