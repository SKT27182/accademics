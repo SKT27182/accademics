{
  "cells": [
    {
      "cell_type": "code",
      "execution_count": 1,
      "metadata": {},
      "outputs": [],
      "source": [
        "import numpy as np\n",
        "import matplotlib.pyplot as plt\n",
        "import pandas as pd\n",
        "import seaborn as sns\n",
        "from scipy.optimize import curve_fit"
      ]
    },
    {
      "cell_type": "code",
      "execution_count": 8,
      "metadata": {},
      "outputs": [],
      "source": [
        "plt.rcParams[\"figure.figsize\"] =(10,5)\n",
        "plt.rcParams['figure.dpi'] = 150"
      ]
    },
    {
      "cell_type": "markdown",
      "metadata": {},
      "source": [
        "## B-I"
      ]
    },
    {
      "cell_type": "code",
      "execution_count": 3,
      "metadata": {},
      "outputs": [],
      "source": [
        "bi = pd.DataFrame(columns=['B (Gauss)', 'I (A)'])\n",
        "bi['B (Gauss)'] = [650, 1640, 2320, 3050, 3820, 4620, 5370, 6090, 6780, 7480, 8020, 8680, 9150, 9660]\n",
        "bi['I (A)'] = [0.00, 0.30, 0.60, 0.90, 1.20, 1.50, 1.80, 2.10, 2.40, 2.70, 3.00, 3.30, 3.60, 3.90]"
      ]
    },
    {
      "cell_type": "code",
      "execution_count": 4,
      "metadata": {},
      "outputs": [
        {
          "data": {
            "text/html": [
              "<div>\n",
              "<style scoped>\n",
              "    .dataframe tbody tr th:only-of-type {\n",
              "        vertical-align: middle;\n",
              "    }\n",
              "\n",
              "    .dataframe tbody tr th {\n",
              "        vertical-align: top;\n",
              "    }\n",
              "\n",
              "    .dataframe thead th {\n",
              "        text-align: right;\n",
              "    }\n",
              "</style>\n",
              "<table border=\"1\" class=\"dataframe\">\n",
              "  <thead>\n",
              "    <tr style=\"text-align: right;\">\n",
              "      <th></th>\n",
              "      <th>B (Gauss)</th>\n",
              "      <th>I (A)</th>\n",
              "    </tr>\n",
              "  </thead>\n",
              "  <tbody>\n",
              "    <tr>\n",
              "      <th>0</th>\n",
              "      <td>650</td>\n",
              "      <td>0.0</td>\n",
              "    </tr>\n",
              "    <tr>\n",
              "      <th>1</th>\n",
              "      <td>1640</td>\n",
              "      <td>0.3</td>\n",
              "    </tr>\n",
              "    <tr>\n",
              "      <th>2</th>\n",
              "      <td>2320</td>\n",
              "      <td>0.6</td>\n",
              "    </tr>\n",
              "    <tr>\n",
              "      <th>3</th>\n",
              "      <td>3050</td>\n",
              "      <td>0.9</td>\n",
              "    </tr>\n",
              "    <tr>\n",
              "      <th>4</th>\n",
              "      <td>3820</td>\n",
              "      <td>1.2</td>\n",
              "    </tr>\n",
              "    <tr>\n",
              "      <th>5</th>\n",
              "      <td>4620</td>\n",
              "      <td>1.5</td>\n",
              "    </tr>\n",
              "    <tr>\n",
              "      <th>6</th>\n",
              "      <td>5370</td>\n",
              "      <td>1.8</td>\n",
              "    </tr>\n",
              "    <tr>\n",
              "      <th>7</th>\n",
              "      <td>6090</td>\n",
              "      <td>2.1</td>\n",
              "    </tr>\n",
              "    <tr>\n",
              "      <th>8</th>\n",
              "      <td>6780</td>\n",
              "      <td>2.4</td>\n",
              "    </tr>\n",
              "    <tr>\n",
              "      <th>9</th>\n",
              "      <td>7480</td>\n",
              "      <td>2.7</td>\n",
              "    </tr>\n",
              "    <tr>\n",
              "      <th>10</th>\n",
              "      <td>8020</td>\n",
              "      <td>3.0</td>\n",
              "    </tr>\n",
              "    <tr>\n",
              "      <th>11</th>\n",
              "      <td>8680</td>\n",
              "      <td>3.3</td>\n",
              "    </tr>\n",
              "    <tr>\n",
              "      <th>12</th>\n",
              "      <td>9150</td>\n",
              "      <td>3.6</td>\n",
              "    </tr>\n",
              "    <tr>\n",
              "      <th>13</th>\n",
              "      <td>9660</td>\n",
              "      <td>3.9</td>\n",
              "    </tr>\n",
              "  </tbody>\n",
              "</table>\n",
              "</div>"
            ],
            "text/plain": [
              "    B (Gauss)  I (A)\n",
              "0         650    0.0\n",
              "1        1640    0.3\n",
              "2        2320    0.6\n",
              "3        3050    0.9\n",
              "4        3820    1.2\n",
              "5        4620    1.5\n",
              "6        5370    1.8\n",
              "7        6090    2.1\n",
              "8        6780    2.4\n",
              "9        7480    2.7\n",
              "10       8020    3.0\n",
              "11       8680    3.3\n",
              "12       9150    3.6\n",
              "13       9660    3.9"
            ]
          },
          "execution_count": 4,
          "metadata": {},
          "output_type": "execute_result"
        }
      ],
      "source": [
        "bi"
      ]
    },
    {
      "cell_type": "code",
      "execution_count": 5,
      "metadata": {},
      "outputs": [
        {
          "data": {
            "image/png": "[encoded data removed]",
            "text/plain": [
              "<Figure size 1500x900 with 1 Axes>"
            ]
          },
          "metadata": {
            "needs_background": "light"
          },
          "output_type": "display_data"
        }
      ],
      "source": [
        "from maths.algebra import CurveFitting\n",
        "\n",
        "cf = CurveFitting(bi['I (A)'], bi['B (Gauss)'] , 2)\n",
        "beta,error = cf.fit(error_=True)"
      ]
    },
    {
      "cell_type": "code",
      "execution_count": 9,
      "metadata": {},
      "outputs": [
        {
          "data": {
            "image/png": "[encoded data removed]",
            "text/plain": [
              "<Figure size 1500x750 with 1 Axes>"
            ]
          },
          "metadata": {
            "needs_background": "light"
          },
          "output_type": "display_data"
        }
      ],
      "source": [
        "x = np.linspace(0, 4, 100)\n",
        "\n",
        "f = lambda x: beta[0] + beta[1]*x + beta[2]*x**2\n",
        "\n",
        "plt.plot(bi['I (A)'], bi['B (Gauss)'], 'o', label='Data')\n",
        "plt.plot(x, f(x), label='Fit');"
      ]
    },
    {
      "cell_type": "code",
      "execution_count": 22,
      "metadata": {},
      "outputs": [],
      "source": [
        "def linear(x,m,c):\n",
        "    return m*x + c\n",
        "\n",
        "pcoe, pcov = curve_fit(linear, bi['I (A)'] ,bi['B (Gauss)'],p0=[5466,650] )"
      ]
    },
    {
      "cell_type": "code",
      "execution_count": 23,
      "metadata": {},
      "outputs": [
        {
          "name": "stdout",
          "output_type": "stream",
          "text": [
            "Std. Deviation of the coefficients: [ 46.22760909 106.07196547]\n",
            "Coefficients: [2324.32233961  991.14287023]\n"
          ]
        }
      ],
      "source": [
        "print('Std. Deviation of the coefficients: '+str(np.sqrt(np.diag(pcov))))\n",
        "print('Coefficients: '+str(pcoe))"
      ]
    },
    {
      "cell_type": "code",
      "execution_count": 24,
      "metadata": {},
      "outputs": [
        {
          "data": {
            "image/png": "[encoded data removed]",
            "text/plain": [
              "<Figure size 1500x750 with 1 Axes>"
            ]
          },
          "metadata": {
            "needs_background": "light"
          },
          "output_type": "display_data"
        }
      ],
      "source": [
        "sns.scatterplot(y = 'B (Gauss)',x = 'I (A)',data = bi)\n",
        "x = np.linspace(0,4,200)\n",
        "y = linear(x,*pcoe)\n",
        "plt.plot(x,y)\n",
        "plt.xticks(np.arange(0, 4.2, 0.3));\n",
        "plt.yticks(np.arange(0, 11000,500));\n",
        "plt.grid(linestyle = '--', linewidth = 0.5)\n",
        "plt.title('Magnetic Field vs Current');"
      ]
    },
    {
      "cell_type": "markdown",
      "metadata": {},
      "source": [
        "***"
      ]
    },
    {
      "cell_type": "code",
      "execution_count": 25,
      "metadata": {
        "id": "X8Y735dkbk6S"
      },
      "outputs": [],
      "source": [
        "D = 0.065 # 65mm\n",
        "l = 546.1 * (10**(-9)) # Wavelength | 546.1 nm"
      ]
    },
    {
      "cell_type": "markdown",
      "metadata": {
        "id": "6OmswLWdSFGO"
      },
      "source": [
        "# Without Splitting"
      ]
    },
    {
      "cell_type": "code",
      "execution_count": 107,
      "metadata": {
        "colab": {
          "base_uri": "https://localhost:8080/",
          "height": 143
        },
        "id": "ton0lg3jWI73",
        "outputId": "bc912d8a-8938-46ef-eb48-439a8a87c0dc"
      },
      "outputs": [
        {
          "data": {
            "text/html": [
              "<div>\n",
              "<style scoped>\n",
              "    .dataframe tbody tr th:only-of-type {\n",
              "        vertical-align: middle;\n",
              "    }\n",
              "\n",
              "    .dataframe tbody tr th {\n",
              "        vertical-align: top;\n",
              "    }\n",
              "\n",
              "    .dataframe thead th {\n",
              "        text-align: right;\n",
              "    }\n",
              "</style>\n",
              "<table border=\"1\" class=\"dataframe\">\n",
              "  <thead>\n",
              "    <tr style=\"text-align: right;\">\n",
              "      <th></th>\n",
              "      <th>Ring</th>\n",
              "      <th>Radius (Pixel)</th>\n",
              "      <th>Radius (micro meter)</th>\n",
              "      <th>Radius^2 (micrometer^2)</th>\n",
              "      <th>Thickness t (mm)</th>\n",
              "    </tr>\n",
              "  </thead>\n",
              "  <tbody>\n",
              "    <tr>\n",
              "      <th>0</th>\n",
              "      <td>1</td>\n",
              "      <td>67.0</td>\n",
              "      <td>187.6</td>\n",
              "      <td>0.00</td>\n",
              "      <td>NaN</td>\n",
              "    </tr>\n",
              "    <tr>\n",
              "      <th>1</th>\n",
              "      <td>2</td>\n",
              "      <td>161.5</td>\n",
              "      <td>452.2</td>\n",
              "      <td>169291.08</td>\n",
              "      <td>13.63</td>\n",
              "    </tr>\n",
              "    <tr>\n",
              "      <th>2</th>\n",
              "      <td>3</td>\n",
              "      <td>228.0</td>\n",
              "      <td>638.4</td>\n",
              "      <td>372360.80</td>\n",
              "      <td>12.39</td>\n",
              "    </tr>\n",
              "  </tbody>\n",
              "</table>\n",
              "</div>"
            ],
            "text/plain": [
              "   Ring  Radius (Pixel)   Radius (micro meter)  Radius^2 (micrometer^2)  \\\n",
              "0     1             67.0                 187.6                     0.00   \n",
              "1     2            161.5                 452.2                169291.08   \n",
              "2     3            228.0                 638.4                372360.80   \n",
              "\n",
              "   Thickness t (mm)  \n",
              "0               NaN  \n",
              "1             13.63  \n",
              "2             12.39  "
            ]
          },
          "execution_count": 107,
          "metadata": {},
          "output_type": "execute_result"
        }
      ],
      "source": [
        "readings = pd.DataFrame()\n",
        "\n",
        "readings['Ring'] = [1,2,3]\n",
        "#readings['Inner Radius Diameter (Pixel) '] = [ 164, 400, 540 ]\n",
        "#readings['Outer Radius Diameter (Pixel) '] = [ 263, 451, 580 ]\n",
        "#readings['Radius (Pixel) '] = (( readings['Inner Radius Diameter (Pixel) '] + readings['Outer Radius Diameter (Pixel) '])/2 )/2\n",
        "readings['Radius (Pixel) '] = [134, 323, 456]\n",
        "readings['Radius (Pixel) '] = readings['Radius (Pixel) ']/2\n",
        "readings['Radius (micro meter)'] = readings['Radius (Pixel) ']*2.8 \n",
        "readings['Radius^2 (micrometer^2)'] = readings['Radius (micro meter)']**2\n",
        "readings['Radius^2 (micrometer^2)'] = readings['Radius^2 (micrometer^2)'] - readings['Radius^2 (micrometer^2)'][0]\n",
        "readings['Thickness t (mm)'] = [np.nan, (10**(3))*((1*(D**2)*l))/(readings['Radius^2 (micrometer^2)'][1]*(10**(-12))),  (10**(3))*((2*(D**2)*l))/(readings['Radius^2 (micrometer^2)'][2]*(10**(-12))) ]\n",
        "readings['Thickness t (mm)'] = round(readings['Thickness t (mm)'],2)\n",
        "readings"
      ]
    },
    {
      "cell_type": "code",
      "execution_count": 109,
      "metadata": {
        "colab": {
          "base_uri": "https://localhost:8080/"
        },
        "id": "CJbJNwX6efvL",
        "outputId": "2df898b2-46f8-48bf-c116-87a5bcb97f3f"
      },
      "outputs": [
        {
          "name": "stdout",
          "output_type": "stream",
          "text": [
            "Average Thickness =  13.01 mm\n",
            "Average Thickness =  0.013 m\n"
          ]
        }
      ],
      "source": [
        "t = readings['Thickness t (mm)'].mean()\n",
        "print(\"Average Thickness = \", round(t,2), 'mm' )\n",
        "\n",
        "t = readings['Thickness t (mm)'].mean()/1000\n",
        "print(\"Average Thickness = \", round(t,4), 'm' )"
      ]
    },
    {
      "cell_type": "markdown",
      "metadata": {
        "id": "GfYUNSOPBbrT"
      },
      "source": [
        "# With Splitting | I = 3A "
      ]
    },
    {
      "cell_type": "code",
      "execution_count": 110,
      "metadata": {
        "colab": {
          "base_uri": "https://localhost:8080/"
        },
        "id": "8ZFrp1Q90nNG",
        "outputId": "236896c7-57a3-4fcb-d977-98e1f887ad97"
      },
      "outputs": [
        {
          "name": "stdout",
          "output_type": "stream",
          "text": [
            "Magnetic Field =  0.8 Tesla\n"
          ]
        }
      ],
      "source": [
        "I = 3 # Ampere\n",
        "B = linear(I,*pcoe)/10000\n",
        "#B = fitted_polynomial(1.74)/10000\n",
        "print(\"Magnetic Field = \", round(B,2), 'Tesla' )"
      ]
    },
    {
      "cell_type": "code",
      "execution_count": 96,
      "metadata": {
        "colab": {
          "base_uri": "https://localhost:8080/",
          "height": 332
        },
        "id": "HGJ9m1YkSuem",
        "outputId": "f748b4c6-4bf5-446e-8ca7-ee7965e33d80"
      },
      "outputs": [
        {
          "data": {
            "text/html": [
              "<div>\n",
              "<style scoped>\n",
              "    .dataframe tbody tr th:only-of-type {\n",
              "        vertical-align: middle;\n",
              "    }\n",
              "\n",
              "    .dataframe tbody tr th {\n",
              "        vertical-align: top;\n",
              "    }\n",
              "\n",
              "    .dataframe thead th {\n",
              "        text-align: right;\n",
              "    }\n",
              "</style>\n",
              "<table border=\"1\" class=\"dataframe\">\n",
              "  <thead>\n",
              "    <tr style=\"text-align: right;\">\n",
              "      <th></th>\n",
              "      <th>Ring</th>\n",
              "      <th>Radius (Pixel)</th>\n",
              "      <th>Radius (micro meter)</th>\n",
              "      <th>Radius^2 (micrometer^2)</th>\n",
              "    </tr>\n",
              "  </thead>\n",
              "  <tbody>\n",
              "    <tr>\n",
              "      <th>0</th>\n",
              "      <td>1 a</td>\n",
              "      <td>129</td>\n",
              "      <td>361.2</td>\n",
              "      <td>130465.44</td>\n",
              "    </tr>\n",
              "    <tr>\n",
              "      <th>1</th>\n",
              "      <td>1 b</td>\n",
              "      <td>318</td>\n",
              "      <td>890.4</td>\n",
              "      <td>792812.16</td>\n",
              "    </tr>\n",
              "    <tr>\n",
              "      <th>2</th>\n",
              "      <td>1 c</td>\n",
              "      <td>451</td>\n",
              "      <td>1262.8</td>\n",
              "      <td>1594663.84</td>\n",
              "    </tr>\n",
              "    <tr>\n",
              "      <th>3</th>\n",
              "      <td>2 a</td>\n",
              "      <td>549</td>\n",
              "      <td>1537.2</td>\n",
              "      <td>2362983.84</td>\n",
              "    </tr>\n",
              "    <tr>\n",
              "      <th>4</th>\n",
              "      <td>2 b</td>\n",
              "      <td>635</td>\n",
              "      <td>1778.0</td>\n",
              "      <td>3161284.00</td>\n",
              "    </tr>\n",
              "    <tr>\n",
              "      <th>5</th>\n",
              "      <td>2 c</td>\n",
              "      <td>709</td>\n",
              "      <td>1985.2</td>\n",
              "      <td>3941019.04</td>\n",
              "    </tr>\n",
              "    <tr>\n",
              "      <th>6</th>\n",
              "      <td>3 a</td>\n",
              "      <td>765</td>\n",
              "      <td>2142.0</td>\n",
              "      <td>4588164.00</td>\n",
              "    </tr>\n",
              "    <tr>\n",
              "      <th>7</th>\n",
              "      <td>3 b</td>\n",
              "      <td>823</td>\n",
              "      <td>2304.4</td>\n",
              "      <td>5310259.36</td>\n",
              "    </tr>\n",
              "    <tr>\n",
              "      <th>8</th>\n",
              "      <td>3 c</td>\n",
              "      <td>882</td>\n",
              "      <td>2469.6</td>\n",
              "      <td>6098924.16</td>\n",
              "    </tr>\n",
              "  </tbody>\n",
              "</table>\n",
              "</div>"
            ],
            "text/plain": [
              "  Ring  Radius (Pixel)   Radius (micro meter)  Radius^2 (micrometer^2)\n",
              "0  1 a              129                 361.2                130465.44\n",
              "1  1 b              318                 890.4                792812.16\n",
              "2  1 c              451                1262.8               1594663.84\n",
              "3  2 a              549                1537.2               2362983.84\n",
              "4  2 b              635                1778.0               3161284.00\n",
              "5  2 c              709                1985.2               3941019.04\n",
              "6  3 a              765                2142.0               4588164.00\n",
              "7  3 b              823                2304.4               5310259.36\n",
              "8  3 c              882                2469.6               6098924.16"
            ]
          },
          "execution_count": 96,
          "metadata": {},
          "output_type": "execute_result"
        }
      ],
      "source": [
        "readings = pd.DataFrame()\n",
        "readings['Ring'] = ['1 a' ,'1 b','1 c','2 a','2 b','2 c','3 a','3 b','3 c']\n",
        "\n",
        "readings['Radius (Pixel) '] = [134, 323, 456, 554, 640, 714, 770, 828, 887]\n",
        "readings['Radius (Pixel) '] = readings['Radius (Pixel) '] -5\n",
        "readings['Radius (micro meter)'] = readings['Radius (Pixel) ']*2.8\n",
        "readings['Radius^2 (micrometer^2)'] = readings['Radius (micro meter)']**2\n",
        "readings"
      ]
    },
    {
      "cell_type": "code",
      "execution_count": 97,
      "metadata": {
        "colab": {
          "base_uri": "https://localhost:8080/",
          "height": 206
        },
        "id": "QiL1W9cahgJ0",
        "outputId": "7703f264-d286-4464-82fc-533e5a25d2ac"
      },
      "outputs": [
        {
          "data": {
            "text/html": [
              "<div>\n",
              "<style scoped>\n",
              "    .dataframe tbody tr th:only-of-type {\n",
              "        vertical-align: middle;\n",
              "    }\n",
              "\n",
              "    .dataframe tbody tr th {\n",
              "        vertical-align: top;\n",
              "    }\n",
              "\n",
              "    .dataframe thead th {\n",
              "        text-align: right;\n",
              "    }\n",
              "</style>\n",
              "<table border=\"1\" class=\"dataframe\">\n",
              "  <thead>\n",
              "    <tr style=\"text-align: right;\">\n",
              "      <th></th>\n",
              "      <th>Rings</th>\n",
              "      <th>a</th>\n",
              "      <th>δab</th>\n",
              "      <th>b</th>\n",
              "      <th>δbc</th>\n",
              "      <th>c</th>\n",
              "    </tr>\n",
              "  </thead>\n",
              "  <tbody>\n",
              "    <tr>\n",
              "      <th>0</th>\n",
              "      <td>1</td>\n",
              "      <td>130465.44</td>\n",
              "      <td>662346.72</td>\n",
              "      <td>792812.16</td>\n",
              "      <td>801851.68</td>\n",
              "      <td>1594663.84</td>\n",
              "    </tr>\n",
              "    <tr>\n",
              "      <th>1</th>\n",
              "      <td>δ12</td>\n",
              "      <td>2232518.40</td>\n",
              "      <td>NaN</td>\n",
              "      <td>2368471.84</td>\n",
              "      <td>NaN</td>\n",
              "      <td>2346355.20</td>\n",
              "    </tr>\n",
              "    <tr>\n",
              "      <th>2</th>\n",
              "      <td>2</td>\n",
              "      <td>2362983.84</td>\n",
              "      <td>798300.16</td>\n",
              "      <td>3161284.00</td>\n",
              "      <td>779735.04</td>\n",
              "      <td>3941019.04</td>\n",
              "    </tr>\n",
              "    <tr>\n",
              "      <th>3</th>\n",
              "      <td>δ23</td>\n",
              "      <td>2225180.16</td>\n",
              "      <td>NaN</td>\n",
              "      <td>2148975.36</td>\n",
              "      <td>NaN</td>\n",
              "      <td>2157905.12</td>\n",
              "    </tr>\n",
              "    <tr>\n",
              "      <th>4</th>\n",
              "      <td>3</td>\n",
              "      <td>4588164.00</td>\n",
              "      <td>722095.36</td>\n",
              "      <td>5310259.36</td>\n",
              "      <td>788664.8</td>\n",
              "      <td>6098924.16</td>\n",
              "    </tr>\n",
              "  </tbody>\n",
              "</table>\n",
              "</div>"
            ],
            "text/plain": [
              "  Rings           a        δab           b        δbc           c\n",
              "0     1   130465.44  662346.72   792812.16  801851.68  1594663.84\n",
              "1   δ12  2232518.40        NaN  2368471.84        NaN  2346355.20\n",
              "2     2  2362983.84  798300.16  3161284.00  779735.04  3941019.04\n",
              "3   δ23  2225180.16        NaN  2148975.36        NaN  2157905.12\n",
              "4     3  4588164.00  722095.36  5310259.36   788664.8  6098924.16"
            ]
          },
          "execution_count": 97,
          "metadata": {},
          "output_type": "execute_result"
        }
      ],
      "source": [
        "read = pd.DataFrame(columns=['Rings','a','δab','b','δbc','c'])\n",
        "read['Rings'] = [ '1', 'δ12', '2', 'δ23', '3' ]\n",
        "read['a'] = [ readings[readings['Ring']=='1 a']['Radius^2 (micrometer^2)'].values[0],\n",
        "                  readings[readings['Ring']=='2 a']['Radius^2 (micrometer^2)'].values[0] - readings[readings['Ring']=='1 a']['Radius^2 (micrometer^2)'].values[0],\n",
        "                 readings[readings['Ring']=='2 a']['Radius^2 (micrometer^2)'].values[0] ,\n",
        "                 readings[readings['Ring']=='3 a']['Radius^2 (micrometer^2)'].values[0] - readings[readings['Ring']=='2 a']['Radius^2 (micrometer^2)'].values[0],\n",
        "                 readings[readings['Ring']=='3 a']['Radius^2 (micrometer^2)'].values[0]   \n",
        "             ]\n",
        "\n",
        "read['b'] = [ readings[readings['Ring']=='1 b']['Radius^2 (micrometer^2)'].values[0],\n",
        "                  readings[readings['Ring']=='2 b']['Radius^2 (micrometer^2)'].values[0] - readings[readings['Ring']=='1 b']['Radius^2 (micrometer^2)'].values[0],\n",
        "                 readings[readings['Ring']=='2 b']['Radius^2 (micrometer^2)'].values[0] ,\n",
        "                 readings[readings['Ring']=='3 b']['Radius^2 (micrometer^2)'].values[0] - readings[readings['Ring']=='2 b']['Radius^2 (micrometer^2)'].values[0],\n",
        "                 readings[readings['Ring']=='3 b']['Radius^2 (micrometer^2)'].values[0]   \n",
        "             ]\n",
        "\n",
        "read['c'] = [ readings[readings['Ring']=='1 c']['Radius^2 (micrometer^2)'].values[0],\n",
        "                  readings[readings['Ring']=='2 c']['Radius^2 (micrometer^2)'].values[0] - readings[readings['Ring']=='1 c']['Radius^2 (micrometer^2)'].values[0],\n",
        "                 readings[readings['Ring']=='2 c']['Radius^2 (micrometer^2)'].values[0] ,\n",
        "                 readings[readings['Ring']=='3 c']['Radius^2 (micrometer^2)'].values[0] - readings[readings['Ring']=='2 c']['Radius^2 (micrometer^2)'].values[0],\n",
        "                 readings[readings['Ring']=='3 c']['Radius^2 (micrometer^2)'].values[0]   \n",
        "             ]\n",
        "\n",
        "read.loc[0,'δab'] = read.loc[0,'b'] - read.loc[0,'a']\n",
        "read.loc[0,'δbc'] = read.loc[0,'c'] - read.loc[0,'b']\n",
        "\n",
        "read.loc[2,'δab'] = read.loc[2,'b'] - read.loc[2,'a']\n",
        "read.loc[2,'δbc'] = read.loc[2,'c'] - read.loc[2,'b']\n",
        "\n",
        "read.loc[4,'δab'] = read.loc[4,'b'] - read.loc[4,'a']\n",
        "read.loc[4,'δbc'] = read.loc[4,'c'] - read.loc[4,'b']\n",
        "\n",
        "read\n"
      ]
    },
    {
      "cell_type": "code",
      "execution_count": 98,
      "metadata": {
        "colab": {
          "base_uri": "https://localhost:8080/"
        },
        "id": "_qc38iywnvUw",
        "outputId": "b43f93bb-f047-48bd-8c12-0a273e518612"
      },
      "outputs": [
        {
          "name": "stdout",
          "output_type": "stream",
          "text": [
            "Average δab =  727580.7466666665 micrometer^2\n",
            "Average δbc =  790083.8399999999 micrometer^2\n",
            "------------------------------\n",
            "Average δab =  7.275807466666665e-07 meter^2\n",
            "Average δbc =  7.900838399999998e-07 meter^2\n",
            "------------------------------\n",
            "------------------------------\n",
            "Average δ12 =  2315781.813333333 micrometer^2\n",
            "Average δ23 =  2177353.5466666664 micrometer^2\n",
            "------------------------------\n",
            "Average δ12 =  2.3157818133333328e-06 meter^2\n",
            "Average δ23 =  2.1773535466666665e-06 meter^2\n",
            "------------------------------\n",
            "------------------------------\n",
            "Average Δ =  2.2465676799999995e-06 meter^2\n",
            "Average Vab =  12.44589331563941 meter^2\n",
            "Average Vbc =  13.515062387372021 meter^2\n",
            "------------------------------\n",
            "------------------------------\n",
            "u0/hc 32.59743532505059\n"
          ]
        }
      ],
      "source": [
        "print(\"Average δab = \", read['δab'].mean(), 'micrometer^2' )\n",
        "print(\"Average δbc = \", read['δbc'].mean(), 'micrometer^2' )\n",
        "print('------------------------------')\n",
        "print(\"Average δab = \", read['δab'].mean()*(10**(-12)) , 'meter^2' )\n",
        "print(\"Average δbc = \", read['δbc'].mean()*(10**(-12)), 'meter^2' )\n",
        "print('------------------------------')\n",
        "print('------------------------------')\n",
        "temp_12_0 = ( read[ read['Rings']=='δ12' ]['a'].values[0] + read[ read['Rings']=='δ12' ]['b'].values[0] + read[ read['Rings']=='δ12' ]['c'].values[0] )/3\n",
        "print(\"Average δ12 = \", temp_12_0 , 'micrometer^2' )\n",
        "temp_23_0 = ( read[ read['Rings']=='δ23' ]['a'].values[0] + read[ read['Rings']=='δ23' ]['b'].values[0] + read[ read['Rings']=='δ23' ]['c'].values[0] )/3\n",
        "print(\"Average δ23 = \", temp_23_0 , 'micrometer^2' )\n",
        "print('------------------------------')\n",
        "temp_12 = (10**(-12))*( read[ read['Rings']=='δ12' ]['a'].values[0] + read[ read['Rings']=='δ12' ]['b'].values[0] + read[ read['Rings']=='δ12' ]['c'].values[0] )/3\n",
        "print(\"Average δ12 = \", temp_12 ,'meter^2' )\n",
        "temp_23 = (10**(-12))*( read[ read['Rings']=='δ23' ]['a'].values[0] + read[ read['Rings']=='δ23' ]['b'].values[0] + read[ read['Rings']=='δ23' ]['c'].values[0] )/3\n",
        "print(\"Average δ23 = \", temp_23 , 'meter^2' )\n",
        "print('------------------------------')\n",
        "print('------------------------------')\n",
        "temp_delta = (temp_12 + temp_23)/2 \n",
        "print(\"Average Δ = \", temp_delta ,  'meter^2' )\n",
        "delta_Vab = read['δab'].mean()*(10**(-12))/(2*t*temp_delta)\n",
        "print(\"Average Vab = \", delta_Vab ,  'meter^2' )\n",
        "delta_Vbc = read['δbc'].mean()*(10**(-12))/(2*t*temp_delta)\n",
        "print(\"Average Vbc = \", delta_Vbc ,  'meter^2' )\n",
        "print('------------------------------')\n",
        "print('------------------------------')\n",
        "print(\"u0/hc\" , (delta_Vab+delta_Vbc)/B )"
      ]
    },
    {
      "cell_type": "markdown",
      "metadata": {
        "id": "zgMQoL1mBms7"
      },
      "source": [
        "# With Splitting | I = 2A "
      ]
    },
    {
      "cell_type": "code",
      "execution_count": 54,
      "metadata": {
        "colab": {
          "base_uri": "https://localhost:8080/",
          "height": 332
        },
        "id": "Rv7Fvk48BsxX",
        "outputId": "a1814725-13a4-4112-d2d1-59dd0f01224b"
      },
      "outputs": [
        {
          "data": {
            "text/html": [
              "<div>\n",
              "<style scoped>\n",
              "    .dataframe tbody tr th:only-of-type {\n",
              "        vertical-align: middle;\n",
              "    }\n",
              "\n",
              "    .dataframe tbody tr th {\n",
              "        vertical-align: top;\n",
              "    }\n",
              "\n",
              "    .dataframe thead th {\n",
              "        text-align: right;\n",
              "    }\n",
              "</style>\n",
              "<table border=\"1\" class=\"dataframe\">\n",
              "  <thead>\n",
              "    <tr style=\"text-align: right;\">\n",
              "      <th></th>\n",
              "      <th>Ring</th>\n",
              "      <th>Radius (Pixel)</th>\n",
              "      <th>Radius (micro meter)</th>\n",
              "      <th>Radius^2 (micrometer^2)</th>\n",
              "    </tr>\n",
              "  </thead>\n",
              "  <tbody>\n",
              "    <tr>\n",
              "      <th>0</th>\n",
              "      <td>1 a</td>\n",
              "      <td>120</td>\n",
              "      <td>336.0</td>\n",
              "      <td>112896.00</td>\n",
              "    </tr>\n",
              "    <tr>\n",
              "      <th>1</th>\n",
              "      <td>1 b</td>\n",
              "      <td>184</td>\n",
              "      <td>515.2</td>\n",
              "      <td>265431.04</td>\n",
              "    </tr>\n",
              "    <tr>\n",
              "      <th>2</th>\n",
              "      <td>1 c</td>\n",
              "      <td>265</td>\n",
              "      <td>742.0</td>\n",
              "      <td>550564.00</td>\n",
              "    </tr>\n",
              "    <tr>\n",
              "      <th>3</th>\n",
              "      <td>2 a</td>\n",
              "      <td>316</td>\n",
              "      <td>884.8</td>\n",
              "      <td>782871.04</td>\n",
              "    </tr>\n",
              "    <tr>\n",
              "      <th>4</th>\n",
              "      <td>2 b</td>\n",
              "      <td>362</td>\n",
              "      <td>1013.6</td>\n",
              "      <td>1027384.96</td>\n",
              "    </tr>\n",
              "    <tr>\n",
              "      <th>5</th>\n",
              "      <td>2 c</td>\n",
              "      <td>411</td>\n",
              "      <td>1150.8</td>\n",
              "      <td>1324340.64</td>\n",
              "    </tr>\n",
              "    <tr>\n",
              "      <th>6</th>\n",
              "      <td>3 a</td>\n",
              "      <td>452</td>\n",
              "      <td>1265.6</td>\n",
              "      <td>1601743.36</td>\n",
              "    </tr>\n",
              "    <tr>\n",
              "      <th>7</th>\n",
              "      <td>3 b</td>\n",
              "      <td>483</td>\n",
              "      <td>1352.4</td>\n",
              "      <td>1828985.76</td>\n",
              "    </tr>\n",
              "    <tr>\n",
              "      <th>8</th>\n",
              "      <td>3 c</td>\n",
              "      <td>513</td>\n",
              "      <td>1436.4</td>\n",
              "      <td>2063244.96</td>\n",
              "    </tr>\n",
              "  </tbody>\n",
              "</table>\n",
              "</div>"
            ],
            "text/plain": [
              "  Ring  Radius (Pixel)   Radius (micro meter)  Radius^2 (micrometer^2)\n",
              "0  1 a              120                 336.0                112896.00\n",
              "1  1 b              184                 515.2                265431.04\n",
              "2  1 c              265                 742.0                550564.00\n",
              "3  2 a              316                 884.8                782871.04\n",
              "4  2 b              362                1013.6               1027384.96\n",
              "5  2 c              411                1150.8               1324340.64\n",
              "6  3 a              452                1265.6               1601743.36\n",
              "7  3 b              483                1352.4               1828985.76\n",
              "8  3 c              513                1436.4               2063244.96"
            ]
          },
          "execution_count": 54,
          "metadata": {},
          "output_type": "execute_result"
        }
      ],
      "source": [
        "readings = pd.DataFrame()\n",
        "\n",
        "readings['Ring'] = ['1 a' ,'1 b','1 c','2 a','2 b','2 c','3 a','3 b','3 c']\n",
        "\n",
        "readings['Radius (Pixel) '] = [120, 184, 265, 316, 362, 411, 452, 483, 513]\n",
        "readings['Radius (micro meter)'] = readings['Radius (Pixel) ']*2.8 \n",
        "readings['Radius^2 (micrometer^2)'] = readings['Radius (micro meter)']**2\n",
        "readings"
      ]
    },
    {
      "cell_type": "code",
      "execution_count": 55,
      "metadata": {
        "colab": {
          "base_uri": "https://localhost:8080/"
        },
        "id": "dj6UTHgPjP4P",
        "outputId": "d34b5d8f-9aa0-4cd4-ab53-44d779b987be"
      },
      "outputs": [
        {
          "name": "stdout",
          "output_type": "stream",
          "text": [
            "Magnetic Field =  0.5639787549448814 Tesla\n"
          ]
        }
      ],
      "source": [
        "I = 2 # Ampere\n",
        "B = linear(I,*pcoe)/10000\n",
        "print(\"Magnetic Field = \", B, 'Tesla' )"
      ]
    },
    {
      "cell_type": "code",
      "execution_count": 56,
      "metadata": {
        "colab": {
          "base_uri": "https://localhost:8080/",
          "height": 206
        },
        "id": "3HsueT9XjP_I",
        "outputId": "867a0ba4-11d0-4f9d-c432-791dd59efb22"
      },
      "outputs": [
        {
          "data": {
            "text/html": [
              "<div>\n",
              "<style scoped>\n",
              "    .dataframe tbody tr th:only-of-type {\n",
              "        vertical-align: middle;\n",
              "    }\n",
              "\n",
              "    .dataframe tbody tr th {\n",
              "        vertical-align: top;\n",
              "    }\n",
              "\n",
              "    .dataframe thead th {\n",
              "        text-align: right;\n",
              "    }\n",
              "</style>\n",
              "<table border=\"1\" class=\"dataframe\">\n",
              "  <thead>\n",
              "    <tr style=\"text-align: right;\">\n",
              "      <th></th>\n",
              "      <th>Rings</th>\n",
              "      <th>a</th>\n",
              "      <th>δab</th>\n",
              "      <th>b</th>\n",
              "      <th>δbc</th>\n",
              "      <th>c</th>\n",
              "    </tr>\n",
              "  </thead>\n",
              "  <tbody>\n",
              "    <tr>\n",
              "      <th>0</th>\n",
              "      <td>1</td>\n",
              "      <td>112896.00</td>\n",
              "      <td>152535.04</td>\n",
              "      <td>265431.04</td>\n",
              "      <td>285132.96</td>\n",
              "      <td>550564.00</td>\n",
              "    </tr>\n",
              "    <tr>\n",
              "      <th>1</th>\n",
              "      <td>δ12</td>\n",
              "      <td>669975.04</td>\n",
              "      <td>NaN</td>\n",
              "      <td>761953.92</td>\n",
              "      <td>NaN</td>\n",
              "      <td>773776.64</td>\n",
              "    </tr>\n",
              "    <tr>\n",
              "      <th>2</th>\n",
              "      <td>2</td>\n",
              "      <td>782871.04</td>\n",
              "      <td>244513.92</td>\n",
              "      <td>1027384.96</td>\n",
              "      <td>296955.68</td>\n",
              "      <td>1324340.64</td>\n",
              "    </tr>\n",
              "    <tr>\n",
              "      <th>3</th>\n",
              "      <td>δ23</td>\n",
              "      <td>818872.32</td>\n",
              "      <td>NaN</td>\n",
              "      <td>801600.80</td>\n",
              "      <td>NaN</td>\n",
              "      <td>738904.32</td>\n",
              "    </tr>\n",
              "    <tr>\n",
              "      <th>4</th>\n",
              "      <td>3</td>\n",
              "      <td>1601743.36</td>\n",
              "      <td>227242.4</td>\n",
              "      <td>1828985.76</td>\n",
              "      <td>234259.2</td>\n",
              "      <td>2063244.96</td>\n",
              "    </tr>\n",
              "  </tbody>\n",
              "</table>\n",
              "</div>"
            ],
            "text/plain": [
              "  Rings           a        δab           b        δbc           c\n",
              "0     1   112896.00  152535.04   265431.04  285132.96   550564.00\n",
              "1   δ12   669975.04        NaN   761953.92        NaN   773776.64\n",
              "2     2   782871.04  244513.92  1027384.96  296955.68  1324340.64\n",
              "3   δ23   818872.32        NaN   801600.80        NaN   738904.32\n",
              "4     3  1601743.36   227242.4  1828985.76   234259.2  2063244.96"
            ]
          },
          "execution_count": 56,
          "metadata": {},
          "output_type": "execute_result"
        }
      ],
      "source": [
        "read = pd.DataFrame(columns=['Rings','a','δab','b','δbc','c'])\n",
        "read['Rings'] = [ '1', 'δ12', '2', 'δ23', '3' ]\n",
        "read['a'] = [ readings[readings['Ring']=='1 a']['Radius^2 (micrometer^2)'].values[0],\n",
        "                  readings[readings['Ring']=='2 a']['Radius^2 (micrometer^2)'].values[0] - readings[readings['Ring']=='1 a']['Radius^2 (micrometer^2)'].values[0],\n",
        "                 readings[readings['Ring']=='2 a']['Radius^2 (micrometer^2)'].values[0] ,\n",
        "                 readings[readings['Ring']=='3 a']['Radius^2 (micrometer^2)'].values[0] - readings[readings['Ring']=='2 a']['Radius^2 (micrometer^2)'].values[0],\n",
        "                 readings[readings['Ring']=='3 a']['Radius^2 (micrometer^2)'].values[0]   \n",
        "             ]\n",
        "\n",
        "read['b'] = [ readings[readings['Ring']=='1 b']['Radius^2 (micrometer^2)'].values[0],\n",
        "                  readings[readings['Ring']=='2 b']['Radius^2 (micrometer^2)'].values[0] - readings[readings['Ring']=='1 b']['Radius^2 (micrometer^2)'].values[0],\n",
        "                 readings[readings['Ring']=='2 b']['Radius^2 (micrometer^2)'].values[0] ,\n",
        "                 readings[readings['Ring']=='3 b']['Radius^2 (micrometer^2)'].values[0] - readings[readings['Ring']=='2 b']['Radius^2 (micrometer^2)'].values[0],\n",
        "                 readings[readings['Ring']=='3 b']['Radius^2 (micrometer^2)'].values[0]   \n",
        "             ]\n",
        "\n",
        "read['c'] = [ readings[readings['Ring']=='1 c']['Radius^2 (micrometer^2)'].values[0],\n",
        "                  readings[readings['Ring']=='2 c']['Radius^2 (micrometer^2)'].values[0] - readings[readings['Ring']=='1 c']['Radius^2 (micrometer^2)'].values[0],\n",
        "                 readings[readings['Ring']=='2 c']['Radius^2 (micrometer^2)'].values[0] ,\n",
        "                 readings[readings['Ring']=='3 c']['Radius^2 (micrometer^2)'].values[0] - readings[readings['Ring']=='2 c']['Radius^2 (micrometer^2)'].values[0],\n",
        "                 readings[readings['Ring']=='3 c']['Radius^2 (micrometer^2)'].values[0]   \n",
        "             ]\n",
        "\n",
        "read.loc[0,'δab'] = read.loc[0,'b'] - read.loc[0,'a']\n",
        "read.loc[0,'δbc'] = read.loc[0,'c'] - read.loc[0,'b']\n",
        "\n",
        "read.loc[2,'δab'] = read.loc[2,'b'] - read.loc[2,'a']\n",
        "read.loc[2,'δbc'] = read.loc[2,'c'] - read.loc[2,'b']\n",
        "\n",
        "read.loc[4,'δab'] = read.loc[4,'b'] - read.loc[4,'a']\n",
        "read.loc[4,'δbc'] = read.loc[4,'c'] - read.loc[4,'b']\n",
        "\n",
        "read\n"
      ]
    },
    {
      "cell_type": "code",
      "execution_count": 57,
      "metadata": {
        "colab": {
          "base_uri": "https://localhost:8080/"
        },
        "id": "_wiud1HvjQCJ",
        "outputId": "f559a7db-edf4-42ea-a5d5-0ddbae11a732"
      },
      "outputs": [
        {
          "name": "stdout",
          "output_type": "stream",
          "text": [
            "Average δab =  208097.11999999985 micrometer^2\n",
            "Average δbc =  272115.9466666667 micrometer^2\n",
            "------------------------------\n",
            "Average δab =  2.0809711999999984e-07 meter^2\n",
            "Average δbc =  2.721159466666667e-07 meter^2\n",
            "------------------------------\n",
            "------------------------------\n",
            "Average δ12 =  735235.1999999998 micrometer^2\n",
            "Average δ23 =  786459.1466666665 micrometer^2\n",
            "------------------------------\n",
            "Average δ12 =  7.352351999999999e-07 meter^2\n",
            "Average δ23 =  7.864591466666664e-07 meter^2\n",
            "------------------------------\n",
            "------------------------------\n",
            "Average Δ =  7.608471733333332e-07 meter^2\n",
            "Average Vab =  10.510733403742387 meter^2\n",
            "Average Vbc =  13.744246774392254 meter^2\n",
            "------------------------------\n",
            "------------------------------\n",
            "u0/hc 43.00690401095893\n"
          ]
        }
      ],
      "source": [
        "print(\"Average δab = \", read['δab'].mean(), 'micrometer^2' )\n",
        "print(\"Average δbc = \", read['δbc'].mean(), 'micrometer^2' )\n",
        "print('------------------------------')\n",
        "print(\"Average δab = \", read['δab'].mean()*(10**(-12)) , 'meter^2' )\n",
        "print(\"Average δbc = \", read['δbc'].mean()*(10**(-12)), 'meter^2' )\n",
        "print('------------------------------')\n",
        "print('------------------------------')\n",
        "temp_12_0 = ( read[ read['Rings']=='δ12' ]['a'].values[0] + read[ read['Rings']=='δ12' ]['b'].values[0] + read[ read['Rings']=='δ12' ]['c'].values[0] )/3\n",
        "print(\"Average δ12 = \", temp_12_0 , 'micrometer^2' )\n",
        "temp_23_0 = ( read[ read['Rings']=='δ23' ]['a'].values[0] + read[ read['Rings']=='δ23' ]['b'].values[0] + read[ read['Rings']=='δ23' ]['c'].values[0] )/3\n",
        "print(\"Average δ23 = \", temp_23_0 , 'micrometer^2' )\n",
        "print('------------------------------')\n",
        "temp_12 = (10**(-12))*( read[ read['Rings']=='δ12' ]['a'].values[0] + read[ read['Rings']=='δ12' ]['b'].values[0] + read[ read['Rings']=='δ12' ]['c'].values[0] )/3\n",
        "print(\"Average δ12 = \", temp_12 ,'meter^2' )\n",
        "temp_23 = (10**(-12))*( read[ read['Rings']=='δ23' ]['a'].values[0] + read[ read['Rings']=='δ23' ]['b'].values[0] + read[ read['Rings']=='δ23' ]['c'].values[0] )/3\n",
        "print(\"Average δ23 = \", temp_23 , 'meter^2' )\n",
        "print('------------------------------')\n",
        "print('------------------------------')\n",
        "temp_delta = (temp_12 + temp_23)/2 \n",
        "print(\"Average Δ = \", temp_delta ,  'meter^2' )\n",
        "delta_Vab = read['δab'].mean()*(10**(-12))/(2*t*temp_delta)\n",
        "print(\"Average Vab = \", delta_Vab ,  'meter^2' )\n",
        "delta_Vbc = read['δbc'].mean()*(10**(-12))/(2*t*temp_delta)\n",
        "print(\"Average Vbc = \", delta_Vbc ,  'meter^2' )\n",
        "print('------------------------------')\n",
        "print('------------------------------')\n",
        "print(\"u0/hc\" , (delta_Vab+delta_Vbc)/B ) # "
      ]
    },
    {
      "cell_type": "markdown",
      "metadata": {
        "id": "RexiXg9xBqWG"
      },
      "source": [
        "# With Splitting | I = 3.76A "
      ]
    },
    {
      "cell_type": "code",
      "execution_count": 99,
      "metadata": {
        "colab": {
          "base_uri": "https://localhost:8080/",
          "height": 332
        },
        "id": "02vkBpSO0AwB",
        "outputId": "4398a175-566a-41b6-fbeb-439b3495fe69"
      },
      "outputs": [
        {
          "data": {
            "text/html": [
              "<div>\n",
              "<style scoped>\n",
              "    .dataframe tbody tr th:only-of-type {\n",
              "        vertical-align: middle;\n",
              "    }\n",
              "\n",
              "    .dataframe tbody tr th {\n",
              "        vertical-align: top;\n",
              "    }\n",
              "\n",
              "    .dataframe thead th {\n",
              "        text-align: right;\n",
              "    }\n",
              "</style>\n",
              "<table border=\"1\" class=\"dataframe\">\n",
              "  <thead>\n",
              "    <tr style=\"text-align: right;\">\n",
              "      <th></th>\n",
              "      <th>Ring</th>\n",
              "      <th>Radius (Pixel)</th>\n",
              "      <th>Radius (micro meter)</th>\n",
              "      <th>Radius^2 (micrometer^2)</th>\n",
              "    </tr>\n",
              "  </thead>\n",
              "  <tbody>\n",
              "    <tr>\n",
              "      <th>0</th>\n",
              "      <td>1 a</td>\n",
              "      <td>136</td>\n",
              "      <td>380.8</td>\n",
              "      <td>145008.64</td>\n",
              "    </tr>\n",
              "    <tr>\n",
              "      <th>1</th>\n",
              "      <td>1 b</td>\n",
              "      <td>237</td>\n",
              "      <td>663.6</td>\n",
              "      <td>440364.96</td>\n",
              "    </tr>\n",
              "    <tr>\n",
              "      <th>2</th>\n",
              "      <td>1 c</td>\n",
              "      <td>323</td>\n",
              "      <td>904.4</td>\n",
              "      <td>817939.36</td>\n",
              "    </tr>\n",
              "    <tr>\n",
              "      <th>3</th>\n",
              "      <td>2 a</td>\n",
              "      <td>395</td>\n",
              "      <td>1106.0</td>\n",
              "      <td>1223236.00</td>\n",
              "    </tr>\n",
              "    <tr>\n",
              "      <th>4</th>\n",
              "      <td>2 b</td>\n",
              "      <td>452</td>\n",
              "      <td>1265.6</td>\n",
              "      <td>1601743.36</td>\n",
              "    </tr>\n",
              "    <tr>\n",
              "      <th>5</th>\n",
              "      <td>2 c</td>\n",
              "      <td>505</td>\n",
              "      <td>1414.0</td>\n",
              "      <td>1999396.00</td>\n",
              "    </tr>\n",
              "    <tr>\n",
              "      <th>6</th>\n",
              "      <td>3 a</td>\n",
              "      <td>569</td>\n",
              "      <td>1593.2</td>\n",
              "      <td>2538286.24</td>\n",
              "    </tr>\n",
              "    <tr>\n",
              "      <th>7</th>\n",
              "      <td>3 b</td>\n",
              "      <td>595</td>\n",
              "      <td>1666.0</td>\n",
              "      <td>2775556.00</td>\n",
              "    </tr>\n",
              "    <tr>\n",
              "      <th>8</th>\n",
              "      <td>3 c</td>\n",
              "      <td>636</td>\n",
              "      <td>1780.8</td>\n",
              "      <td>3171248.64</td>\n",
              "    </tr>\n",
              "  </tbody>\n",
              "</table>\n",
              "</div>"
            ],
            "text/plain": [
              "  Ring  Radius (Pixel)   Radius (micro meter)  Radius^2 (micrometer^2)\n",
              "0  1 a              136                 380.8                145008.64\n",
              "1  1 b              237                 663.6                440364.96\n",
              "2  1 c              323                 904.4                817939.36\n",
              "3  2 a              395                1106.0               1223236.00\n",
              "4  2 b              452                1265.6               1601743.36\n",
              "5  2 c              505                1414.0               1999396.00\n",
              "6  3 a              569                1593.2               2538286.24\n",
              "7  3 b              595                1666.0               2775556.00\n",
              "8  3 c              636                1780.8               3171248.64"
            ]
          },
          "execution_count": 99,
          "metadata": {},
          "output_type": "execute_result"
        }
      ],
      "source": [
        "readings = pd.DataFrame()\n",
        "readings['Ring'] = ['1 a' ,'1 b','1 c','2 a','2 b','2 c','3 a','3 b','3 c']\n",
        "\n",
        "readings['Radius (Pixel) '] = [136, 237, 323, 395, 452, 505, 569, 595, 636]\n",
        "readings['Radius (micro meter)'] = readings['Radius (Pixel) ']*2.8 \n",
        "readings['Radius^2 (micrometer^2)'] = readings['Radius (micro meter)']**2\n",
        "readings"
      ]
    },
    {
      "cell_type": "code",
      "execution_count": 100,
      "metadata": {
        "colab": {
          "base_uri": "https://localhost:8080/"
        },
        "id": "1iS4dPUljWF4",
        "outputId": "fcafcf72-74c5-4515-a7f0-5e0cd44c2b68"
      },
      "outputs": [
        {
          "name": "stdout",
          "output_type": "stream",
          "text": [
            "Magnetic Field =  0.9730594867158299 Tesla\n"
          ]
        }
      ],
      "source": [
        "I = 3.76 # Ampere\n",
        "B = linear(I,*pcoe)/10000\n",
        "print(\"Magnetic Field = \", B, 'Tesla' )"
      ]
    },
    {
      "cell_type": "code",
      "execution_count": 101,
      "metadata": {
        "colab": {
          "base_uri": "https://localhost:8080/",
          "height": 206
        },
        "id": "XDY85s6Qjt-9",
        "outputId": "f870e810-ed8a-4951-b3d4-1e779bb28181"
      },
      "outputs": [
        {
          "data": {
            "text/html": [
              "<div>\n",
              "<style scoped>\n",
              "    .dataframe tbody tr th:only-of-type {\n",
              "        vertical-align: middle;\n",
              "    }\n",
              "\n",
              "    .dataframe tbody tr th {\n",
              "        vertical-align: top;\n",
              "    }\n",
              "\n",
              "    .dataframe thead th {\n",
              "        text-align: right;\n",
              "    }\n",
              "</style>\n",
              "<table border=\"1\" class=\"dataframe\">\n",
              "  <thead>\n",
              "    <tr style=\"text-align: right;\">\n",
              "      <th></th>\n",
              "      <th>Rings</th>\n",
              "      <th>a</th>\n",
              "      <th>δab</th>\n",
              "      <th>b</th>\n",
              "      <th>δbc</th>\n",
              "      <th>c</th>\n",
              "    </tr>\n",
              "  </thead>\n",
              "  <tbody>\n",
              "    <tr>\n",
              "      <th>0</th>\n",
              "      <td>1</td>\n",
              "      <td>145008.64</td>\n",
              "      <td>295356.32</td>\n",
              "      <td>440364.96</td>\n",
              "      <td>377574.4</td>\n",
              "      <td>817939.36</td>\n",
              "    </tr>\n",
              "    <tr>\n",
              "      <th>1</th>\n",
              "      <td>δ12</td>\n",
              "      <td>1078227.36</td>\n",
              "      <td>NaN</td>\n",
              "      <td>1161378.40</td>\n",
              "      <td>NaN</td>\n",
              "      <td>1181456.64</td>\n",
              "    </tr>\n",
              "    <tr>\n",
              "      <th>2</th>\n",
              "      <td>2</td>\n",
              "      <td>1223236.00</td>\n",
              "      <td>378507.36</td>\n",
              "      <td>1601743.36</td>\n",
              "      <td>397652.64</td>\n",
              "      <td>1999396.00</td>\n",
              "    </tr>\n",
              "    <tr>\n",
              "      <th>3</th>\n",
              "      <td>δ23</td>\n",
              "      <td>1315050.24</td>\n",
              "      <td>NaN</td>\n",
              "      <td>1173812.64</td>\n",
              "      <td>NaN</td>\n",
              "      <td>1171852.64</td>\n",
              "    </tr>\n",
              "    <tr>\n",
              "      <th>4</th>\n",
              "      <td>3</td>\n",
              "      <td>2538286.24</td>\n",
              "      <td>237269.76</td>\n",
              "      <td>2775556.00</td>\n",
              "      <td>395692.64</td>\n",
              "      <td>3171248.64</td>\n",
              "    </tr>\n",
              "  </tbody>\n",
              "</table>\n",
              "</div>"
            ],
            "text/plain": [
              "  Rings           a        δab           b        δbc           c\n",
              "0     1   145008.64  295356.32   440364.96   377574.4   817939.36\n",
              "1   δ12  1078227.36        NaN  1161378.40        NaN  1181456.64\n",
              "2     2  1223236.00  378507.36  1601743.36  397652.64  1999396.00\n",
              "3   δ23  1315050.24        NaN  1173812.64        NaN  1171852.64\n",
              "4     3  2538286.24  237269.76  2775556.00  395692.64  3171248.64"
            ]
          },
          "execution_count": 101,
          "metadata": {},
          "output_type": "execute_result"
        }
      ],
      "source": [
        "read = pd.DataFrame(columns=['Rings','a','δab','b','δbc','c'])\n",
        "read['Rings'] = [ '1', 'δ12', '2', 'δ23', '3' ]\n",
        "read['a'] = [ readings[readings['Ring']=='1 a']['Radius^2 (micrometer^2)'].values[0],\n",
        "                  readings[readings['Ring']=='2 a']['Radius^2 (micrometer^2)'].values[0] - readings[readings['Ring']=='1 a']['Radius^2 (micrometer^2)'].values[0],\n",
        "                 readings[readings['Ring']=='2 a']['Radius^2 (micrometer^2)'].values[0] ,\n",
        "                 readings[readings['Ring']=='3 a']['Radius^2 (micrometer^2)'].values[0] - readings[readings['Ring']=='2 a']['Radius^2 (micrometer^2)'].values[0],\n",
        "                 readings[readings['Ring']=='3 a']['Radius^2 (micrometer^2)'].values[0]   \n",
        "             ]\n",
        "\n",
        "read['b'] = [ readings[readings['Ring']=='1 b']['Radius^2 (micrometer^2)'].values[0],\n",
        "                  readings[readings['Ring']=='2 b']['Radius^2 (micrometer^2)'].values[0] - readings[readings['Ring']=='1 b']['Radius^2 (micrometer^2)'].values[0],\n",
        "                 readings[readings['Ring']=='2 b']['Radius^2 (micrometer^2)'].values[0] ,\n",
        "                 readings[readings['Ring']=='3 b']['Radius^2 (micrometer^2)'].values[0] - readings[readings['Ring']=='2 b']['Radius^2 (micrometer^2)'].values[0],\n",
        "                 readings[readings['Ring']=='3 b']['Radius^2 (micrometer^2)'].values[0]   \n",
        "             ]\n",
        "\n",
        "read['c'] = [ readings[readings['Ring']=='1 c']['Radius^2 (micrometer^2)'].values[0],\n",
        "                  readings[readings['Ring']=='2 c']['Radius^2 (micrometer^2)'].values[0] - readings[readings['Ring']=='1 c']['Radius^2 (micrometer^2)'].values[0],\n",
        "                 readings[readings['Ring']=='2 c']['Radius^2 (micrometer^2)'].values[0] ,\n",
        "                 readings[readings['Ring']=='3 c']['Radius^2 (micrometer^2)'].values[0] - readings[readings['Ring']=='2 c']['Radius^2 (micrometer^2)'].values[0],\n",
        "                 readings[readings['Ring']=='3 c']['Radius^2 (micrometer^2)'].values[0]   \n",
        "             ]\n",
        "\n",
        "read.loc[0,'δab'] = read.loc[0,'b'] - read.loc[0,'a']\n",
        "read.loc[0,'δbc'] = read.loc[0,'c'] - read.loc[0,'b']\n",
        "\n",
        "read.loc[2,'δab'] = read.loc[2,'b'] - read.loc[2,'a']\n",
        "read.loc[2,'δbc'] = read.loc[2,'c'] - read.loc[2,'b']\n",
        "\n",
        "read.loc[4,'δab'] = read.loc[4,'b'] - read.loc[4,'a']\n",
        "read.loc[4,'δbc'] = read.loc[4,'c'] - read.loc[4,'b']\n",
        "\n",
        "read\n"
      ]
    },
    {
      "cell_type": "code",
      "execution_count": 102,
      "metadata": {
        "colab": {
          "base_uri": "https://localhost:8080/"
        },
        "id": "9jyascaoG-uo",
        "outputId": "d902dbca-913d-4987-cc7a-84733a91caeb"
      },
      "outputs": [
        {
          "name": "stdout",
          "output_type": "stream",
          "text": [
            "Average δab =  303711.14666666684 micrometer^2\n",
            "Average δbc =  390306.56 micrometer^2\n",
            "------------------------------\n",
            "Average δab =  3.0371114666666685e-07 meter^2\n",
            "Average δbc =  3.9030655999999997e-07 meter^2\n",
            "------------------------------\n",
            "------------------------------\n",
            "Average δ12 =  1140354.1333333333 micrometer^2\n",
            "Average δ23 =  1220238.5066666664 micrometer^2\n",
            "------------------------------\n",
            "Average δ12 =  1.1403541333333332e-06 meter^2\n",
            "Average δ23 =  1.2202385066666663e-06 meter^2\n",
            "------------------------------\n",
            "------------------------------\n",
            "Average Δ =  1.1802963199999997e-06 meter^2\n",
            "Average Vab =  9.888582947950487 meter^2\n",
            "Average Vbc =  12.7080577583319 meter^2\n",
            "------------------------------\n",
            "------------------------------\n",
            "u0/hc 23.22226031889195\n"
          ]
        }
      ],
      "source": [
        "print(\"Average δab = \", read['δab'].mean(), 'micrometer^2' )\n",
        "print(\"Average δbc = \", read['δbc'].mean(), 'micrometer^2' )\n",
        "print('------------------------------')\n",
        "print(\"Average δab = \", read['δab'].mean()*(10**(-12)) , 'meter^2' )\n",
        "print(\"Average δbc = \", read['δbc'].mean()*(10**(-12)), 'meter^2' )\n",
        "print('------------------------------')\n",
        "print('------------------------------')\n",
        "temp_12_0 = ( read[ read['Rings']=='δ12' ]['a'].values[0] + read[ read['Rings']=='δ12' ]['b'].values[0] + read[ read['Rings']=='δ12' ]['c'].values[0] )/3\n",
        "print(\"Average δ12 = \", temp_12_0 , 'micrometer^2' )\n",
        "temp_23_0 = ( read[ read['Rings']=='δ23' ]['a'].values[0] + read[ read['Rings']=='δ23' ]['b'].values[0] + read[ read['Rings']=='δ23' ]['c'].values[0] )/3\n",
        "print(\"Average δ23 = \", temp_23_0 , 'micrometer^2' )\n",
        "print('------------------------------')\n",
        "temp_12 = (10**(-12))*( read[ read['Rings']=='δ12' ]['a'].values[0] + read[ read['Rings']=='δ12' ]['b'].values[0] + read[ read['Rings']=='δ12' ]['c'].values[0] )/3\n",
        "print(\"Average δ12 = \", temp_12 ,'meter^2' )\n",
        "temp_23 = (10**(-12))*( read[ read['Rings']=='δ23' ]['a'].values[0] + read[ read['Rings']=='δ23' ]['b'].values[0] + read[ read['Rings']=='δ23' ]['c'].values[0] )/3\n",
        "print(\"Average δ23 = \", temp_23 , 'meter^2' )\n",
        "print('------------------------------')\n",
        "print('------------------------------')\n",
        "temp_delta = (temp_12 + temp_23)/2 \n",
        "print(\"Average Δ = \", temp_delta ,  'meter^2' )\n",
        "delta_Vab = read['δab'].mean()*(10**(-12))/(2*t*temp_delta)\n",
        "print(\"Average Vab = \", delta_Vab ,  'meter^2' )\n",
        "delta_Vbc = read['δbc'].mean()*(10**(-12))/(2*t*temp_delta)\n",
        "print(\"Average Vbc = \", delta_Vbc ,  'meter^2' )\n",
        "print('------------------------------')\n",
        "print('------------------------------')\n",
        "print(\"u0/hc\" , (delta_Vab+delta_Vbc)/B )"
      ]
    },
    {
      "cell_type": "code",
      "execution_count": null,
      "metadata": {
        "id": "ZfpFYWHEj6eY"
      },
      "outputs": [],
      "source": []
    }
  ],
  "metadata": {
    "colab": {
      "collapsed_sections": [],
      "provenance": []
    },
    "kernelspec": {
      "display_name": "Python 3.10.4 ('my_env')",
      "language": "python",
      "name": "python3"
    },
    "language_info": {
      "codemirror_mode": {
        "name": "ipython",
        "version": 3
      },
      "file_extension": ".py",
      "mimetype": "text/x-python",
      "name": "python",
      "nbconvert_exporter": "python",
      "pygments_lexer": "ipython3",
      "version": "3.10.6"
    },
    "vscode": {
      "interpreter": {
        "hash": "333ad066d239af8659780667608f3e14a8c59d1eb92890b0405dfaef9e357b30"
      }
    }
  },
  "nbformat": 4,
  "nbformat_minor": 0
}
